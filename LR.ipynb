{
  "nbformat": 4,
  "nbformat_minor": 0,
  "metadata": {
    "colab": {
      "name": "LR.ipynb",
      "provenance": [],
      "collapsed_sections": [],
      "authorship_tag": "ABX9TyN4QhGdocif44+nofrinleX",
      "include_colab_link": true
    },
    "kernelspec": {
      "name": "python3",
      "display_name": "Python 3"
    },
    "language_info": {
      "name": "python"
    }
  },
  "cells": [
    {
      "cell_type": "markdown",
      "metadata": {
        "id": "view-in-github",
        "colab_type": "text"
      },
      "source": [
        "<a href=\"https://colab.research.google.com/github/manavbhagwani/Logistic-Regression---Binary-Classification/blob/main/LR.ipynb\" target=\"_parent\"><img src=\"https://colab.research.google.com/assets/colab-badge.svg\" alt=\"Open In Colab\"/></a>"
      ]
    },
    {
      "cell_type": "code",
      "metadata": {
        "id": "XXljgjIezBDP"
      },
      "source": [
        "import pickle\n",
        "import numpy as np\n",
        "import matplotlib.pyplot as plt\n",
        "from PIL import Image\n",
        "import tensorflow as tf"
      ],
      "execution_count": null,
      "outputs": []
    },
    {
      "cell_type": "code",
      "metadata": {
        "id": "3aiW6srUzPIH",
        "colab": {
          "base_uri": "https://localhost:8080/"
        },
        "outputId": "ceea2787-45ec-4d13-b747-e87a72a9b231"
      },
      "source": [
        "(train_raw_x, train_raw_y), (test_raw_x, test_raw_y) = tf.keras.datasets.cifar10.load_data()"
      ],
      "execution_count": null,
      "outputs": [
        {
          "output_type": "stream",
          "text": [
            "Downloading data from https://www.cs.toronto.edu/~kriz/cifar-10-python.tar.gz\n",
            "170500096/170498071 [==============================] - 14s 0us/step\n"
          ],
          "name": "stdout"
        }
      ]
    },
    {
      "cell_type": "code",
      "metadata": {
        "id": "D9DltxREzZkf"
      },
      "source": [
        "def normalise(data):\n",
        "  data=data.astype(\"float32\")\n",
        "  stddev=np.std(data.flatten())\n",
        "  data=(data-122.5)/stddev\n",
        "  return data"
      ],
      "execution_count": null,
      "outputs": []
    },
    {
      "cell_type": "code",
      "metadata": {
        "id": "z8v5nFzC3-dQ"
      },
      "source": [
        "def flatten(data):\n",
        "  data=data.reshape(data.shape[0],-1)\n",
        "  ones=np.ones(data.shape[0])\n",
        "  data=np.insert(data,0,ones,axis=1)\n",
        "  return data"
      ],
      "execution_count": null,
      "outputs": []
    },
    {
      "cell_type": "code",
      "metadata": {
        "colab": {
          "base_uri": "https://localhost:8080/"
        },
        "id": "GiUFk62d1acO",
        "outputId": "61f345da-ec93-4b66-dd9f-5444dea74c7f"
      },
      "source": [
        "train_flat_x=flatten(train_raw_x)\n",
        "test_flat_x=flatten(test_raw_x)\n",
        "train_x=normalise(train_flat_x)\n",
        "test_x=normalise(test_flat_x)\n",
        "print(train_x)\n",
        "print(test_x.shape)"
      ],
      "execution_count": null,
      "outputs": [
        {
          "output_type": "stream",
          "text": [
            "[[-1.893231   -0.9894664  -0.94272    ...  0.00779107 -0.47525552\n",
            "  -0.7868985 ]\n",
            " [-1.893231    0.49083766  0.8492271  ...  0.31943405  0.16361256\n",
            "   0.3350162 ]\n",
            " [-1.893231    2.0646346   2.0646346  ... -0.66224134 -0.5687484\n",
            "  -0.5999127 ]\n",
            " ...\n",
            " [-1.893231   -1.363438    0.8648092  ... -1.7218274  -1.4257666\n",
            "  -1.1297058 ]\n",
            " [-1.893231    1.0362129   1.3790201  ...  1.1297058   1.051795\n",
            "   0.7557342 ]\n",
            " [-1.893231    1.6594988   1.6594988  ...  0.631077    0.631077\n",
            "   0.5999127 ]]\n",
            "(10000, 3073)\n"
          ],
          "name": "stdout"
        }
      ]
    },
    {
      "cell_type": "code",
      "metadata": {
        "id": "aLRGjcPe2LOA"
      },
      "source": [
        "train_y=np.array([1 if i==3 else 0 for i in train_raw_y])\n",
        "test_y=np.array([1 if i==3 else 0 for i in test_raw_y])"
      ],
      "execution_count": null,
      "outputs": []
    },
    {
      "cell_type": "code",
      "metadata": {
        "id": "YvJS1tre79gr"
      },
      "source": [
        "def sigmoid(z):\n",
        "  return 1/(1+np.exp(-z))"
      ],
      "execution_count": null,
      "outputs": []
    },
    {
      "cell_type": "code",
      "metadata": {
        "id": "BIwOMYKU_xzY",
        "colab": {
          "base_uri": "https://localhost:8080/"
        },
        "outputId": "c4db7e8b-ca4c-4d5f-e4bb-fa4f0dd2323a"
      },
      "source": [
        "theta=np.random.rand(32*32*3+1).T/1000\n",
        "theta1=np.array(theta)\n",
        "print(theta)"
      ],
      "execution_count": null,
      "outputs": [
        {
          "output_type": "stream",
          "text": [
            "[4.96827542e-04 3.11562927e-04 2.73402715e-04 ... 1.17290326e-04\n",
            " 9.15475938e-05 9.49928930e-04]\n"
          ],
          "name": "stdout"
        }
      ]
    },
    {
      "cell_type": "code",
      "metadata": {
        "id": "Qgq7hGzs4orf"
      },
      "source": [
        "loss=[]\n",
        "for j in range(1000):\n",
        "  loss_step=0\n",
        "  diff=0\n",
        "  for i in range(50000):\n",
        "    y=sigmoid(np.dot(theta,train_x[i]))\n",
        "    loss_step+=train_y[i]*np.log(y)+(1-train_y[i])*np.log(1-y)\n",
        "    diff+=(y-train_y[i])*train_x[i]\n",
        "  theta-=0.00000025*diff\n",
        "  loss_step=-1/50000*loss_step\n",
        "  loss.append(loss_step)\n",
        "  print(loss_step)"
      ],
      "execution_count": null,
      "outputs": []
    },
    {
      "cell_type": "code",
      "metadata": {
        "id": "UI4UW97UOHA3",
        "colab": {
          "base_uri": "https://localhost:8080/",
          "height": 295
        },
        "outputId": "2ce83628-6f6f-4b3d-af4a-4776cac43367"
      },
      "source": [
        "plt.plot(range(len(loss)), loss, label='Loss')\n",
        "plt.title('Loss Curve')\n",
        "plt.xlabel('Epochs')\n",
        "plt.ylabel('Loss')\n",
        "plt.show()"
      ],
      "execution_count": null,
      "outputs": [
        {
          "output_type": "display_data",
          "data": {
            "image/png": "[encoded data removed]",
            "text/plain": [
              "<Figure size 432x288 with 1 Axes>"
            ]
          },
          "metadata": {
            "tags": [],
            "needs_background": "light"
          }
        }
      ]
    },
    {
      "cell_type": "code",
      "metadata": {
        "id": "a2VHCxjTRu4U",
        "colab": {
          "base_uri": "https://localhost:8080/"
        },
        "outputId": "a791c4bc-87ab-43ed-a46f-9290ebc95983"
      },
      "source": [
        "c=0\n",
        "for i in range(10000):\n",
        "  y_pre=sigmoid(np.dot(theta,test_x[i]))\n",
        "  if((y_pre>=0.5 and test_y[i]==1) or (y_pre<0.5 and test_y[i]==0)):\n",
        "    c+=1\n",
        "\n",
        "print(c/100)"
      ],
      "execution_count": null,
      "outputs": [
        {
          "output_type": "stream",
          "text": [
            "86.54\n"
          ],
          "name": "stdout"
        }
      ]
    },
    {
      "cell_type": "code",
      "metadata": {
        "id": "kp-JWC1OSMSY"
      },
      "source": [
        ""
      ],
      "execution_count": null,
      "outputs": []
    }
  ]
}